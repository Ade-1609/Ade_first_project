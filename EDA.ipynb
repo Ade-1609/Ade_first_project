{
 "cells": [
  {
   "cell_type": "code",
   "execution_count": null,
   "id": "1b067506-4cf8-44b4-8ec4-f478a77e52f0",
   "metadata": {},
   "outputs": [],
   "source": [
    "                                                        #### Task/The problem  #######  \n",
    "#  My client has some apartments he would like to sell, but he would like to know the best condition to initiate the sale, and best time of the year."
   ]
  },
  {
   "cell_type": "code",
   "execution_count": null,
   "id": "8676e463-b101-487b-9d43-8ddda7b9f372",
   "metadata": {},
   "outputs": [],
   "source": [
    "import warnings\n",
    "\n",
    "warnings.filterwarnings(\"ignore\")\n",
    "\n",
    "import pandas as pd\n",
    "from datetime import datetime, date, time, timedelta\n",
    "import numpy as np\n",
    "import matplotlib.pyplot as plt\n",
    "import seaborn as sns\n",
    "\n",
    "\n",
    "from matplotlib.ticker import PercentFormatter\n",
    "plt.rcParams.update({ \"figure.figsize\" : (8, 5),\"axes.facecolor\" : \"white\", \"axes.edgecolor\":  \"black\"})\n",
    "plt.rcParams[\"figure.facecolor\"]= \"w\"\n",
    "pd.plotting.register_matplotlib_converters()\n",
    "pd.set_option('display.float_format', lambda x: '%.3f' % x)"
   ]
  },
  {
   "cell_type": "code",
   "execution_count": null,
   "id": "b573df1d-a41e-413f-b0f2-1fc773bdd9e2",
   "metadata": {},
   "outputs": [],
   "source": [
    "##Step 1 is to load the data into python\n",
    "housing_data = pd.read_csv('data/Housing_info.csv')\n",
    "housing_data.head()"
   ]
  },
  {
   "cell_type": "code",
   "execution_count": null,
   "id": "ac6cced8-43fb-4a10-912a-087f7d29533e",
   "metadata": {},
   "outputs": [],
   "source": [
    "housing_data.dtypes"
   ]
  },
  {
   "cell_type": "code",
   "execution_count": null,
   "id": "ea22847c-f8ed-4f4f-bc4d-90ef80ee87ab",
   "metadata": {},
   "outputs": [],
   "source": [
    "housing_data.columns"
   ]
  },
  {
   "cell_type": "code",
   "execution_count": null,
   "id": "e9cf42ab-3c36-4728-8cae-3108c8c73977",
   "metadata": {},
   "outputs": [],
   "source": [
    "housing_data.shape"
   ]
  },
  {
   "cell_type": "code",
   "execution_count": null,
   "id": "8d1f63a5-23c1-44ec-af9a-2fa3732b94c6",
   "metadata": {},
   "outputs": [],
   "source": [
    "housing_data.duplicated().value_counts()"
   ]
  },
  {
   "cell_type": "code",
   "execution_count": null,
   "id": "131c19a0-bab7-4c93-923e-70e4caee7835",
   "metadata": {},
   "outputs": [],
   "source": [
    "housing_data.isna().sum()"
   ]
  },
  {
   "cell_type": "code",
   "execution_count": null,
   "id": "87cb6644-00c9-4298-973a-1dc0299b0596",
   "metadata": {},
   "outputs": [],
   "source": [
    "## My client has a series of 3 bedroom apartments to sell\n",
    " "
   ]
  },
  {
   "cell_type": "code",
   "execution_count": null,
   "id": "1418b74e-fbb9-4d2b-9a74-97dd3af48547",
   "metadata": {},
   "outputs": [],
   "source": [
    "housing_step1 = housing_data[housing_data['bedrooms'].isin([2,3,4,5])]\n",
    "housing_step1.head()"
   ]
  },
  {
   "cell_type": "code",
   "execution_count": null,
   "id": "0ed2b62b-4880-47c0-8ca2-a8c0836a2481",
   "metadata": {},
   "outputs": [],
   "source": [
    "### Now we have a collection of 2,3,4,5 bedrooms which we would use for robustness checks. As stated above , the client has \n",
    "### an interest in the 3 bedroom apartments. \n",
    "\n",
    "## To do this, we will take a look at the 3 bedroom apartments in our data which is the next step. \n",
    "## After extracting the data, we will start the first and important step which is the data cleaning."
   ]
  },
  {
   "cell_type": "code",
   "execution_count": null,
   "id": "50e71fed-4a93-4eea-99c3-30f435621385",
   "metadata": {},
   "outputs": [],
   "source": [
    "housing_3 = housing_step1[housing_step1['bedrooms'].isin([3])]\n",
    "housing_3"
   ]
  },
  {
   "cell_type": "code",
   "execution_count": null,
   "id": "d2723272-70c4-4d22-a49d-71264829ec0b",
   "metadata": {},
   "outputs": [],
   "source": [
    "housing_3.dtypes"
   ]
  },
  {
   "cell_type": "code",
   "execution_count": null,
   "id": "2f965407-89f5-4bc7-a4a6-72a22ed1d2a3",
   "metadata": {},
   "outputs": [],
   "source": [
    "### Change the data types of some variables\n",
    "\n",
    "data_types_dict = {'bedrooms':'int', 'bathrooms':'int', 'floors': 'int',\n",
    "                 'sqft_above': 'int', 'sqft_living': 'int',\n",
    "                   'sqft_lot': 'int', 'sqft_lot15':'int','price': 'int'\n",
    "                  \n",
    "                  }"
   ]
  },
  {
   "cell_type": "code",
   "execution_count": null,
   "id": "87971c01-e856-4bbe-8483-053c3624bc62",
   "metadata": {},
   "outputs": [],
   "source": [
    "housing_3 = housing_3.astype(data_types_dict)\n",
    "housing_3.dtypes"
   ]
  },
  {
   "cell_type": "code",
   "execution_count": null,
   "id": "7b2b8dc6-542a-4e9b-9363-fc520fb44de3",
   "metadata": {},
   "outputs": [],
   "source": [
    "# check for missing values\n",
    "housing_3.isna().sum()"
   ]
  },
  {
   "cell_type": "code",
   "execution_count": null,
   "id": "fe89ca4b-8ca9-4a59-8881-21f07d76393e",
   "metadata": {},
   "outputs": [],
   "source": [
    "housing_3['date'] = pd.to_datetime(housing_3['date'], format='%Y-%m-%d')\n",
    "housing_3.dtypes"
   ]
  },
  {
   "cell_type": "code",
   "execution_count": null,
   "id": "0fa907c0-5be1-49d5-869c-aff4edc464f6",
   "metadata": {},
   "outputs": [],
   "source": [
    "housing_3['sales_month'] = housing_3['date'].dt.strftime('%B')\n",
    "housing_3.head()"
   ]
  },
  {
   "cell_type": "code",
   "execution_count": null,
   "id": "ec605977-7380-477b-8ede-799400cba39b",
   "metadata": {},
   "outputs": [],
   "source": [
    "## generate a new year renovated column which will represent a categorical variable, with 0= no renovation, 1= renovation\n",
    "housing_3.eval('year_renovated = yr_renovated', inplace=True)\n",
    "housing_3.head()"
   ]
  },
  {
   "cell_type": "code",
   "execution_count": null,
   "id": "ca632337-8855-4a47-9115-9a42740290ba",
   "metadata": {},
   "outputs": [],
   "source": [
    "housing_3.dropna(subset=['yr_renovated'], inplace=True)\n",
    "housing_3\n",
    "# Why do i drop the N/a data? In this case, we are only interested in renovation with values, all missing entries will be dropped from the data "
   ]
  },
  {
   "cell_type": "code",
   "execution_count": null,
   "id": "9198db50-0f83-4db4-8405-8b555f275d76",
   "metadata": {},
   "outputs": [],
   "source": [
    "##Transform newly generated column into a categorical variable. 1 represents renovation at some point, 0 never been renovated\n",
    "housing_3['year_renovated'] = np.where(housing_3['year_renovated'] > 0, 1, 0)"
   ]
  },
  {
   "cell_type": "code",
   "execution_count": null,
   "id": "917a3b07-f1aa-4155-a81e-8c2a4346027f",
   "metadata": {},
   "outputs": [],
   "source": [
    "## Question 1: WILL RENOVATING BEFORE SELLING BE BETTER THAN NOT?"
   ]
  },
  {
   "cell_type": "code",
   "execution_count": null,
   "id": "797164bd-112a-4758-a2ba-975cd166ee87",
   "metadata": {},
   "outputs": [],
   "source": [
    "#Define Price Variable \n",
    "price = housing_3.groupby('year_renovated')['price'].mean()\n",
    "price= price.astype(int)\n",
    "\n",
    "renovation = housing_3['year_renovated'].unique()\n",
    "\n",
    "data1 = {'price': price, 'renovation': renovation}\n",
    "\n",
    "housing_3bed = pd.DataFrame(data1)\n",
    "\n",
    "import seaborn as sns\n",
    "import matplotlib.pyplot as plt\n",
    "from matplotlib.ticker import FuncFormatter\n",
    "\n",
    "colors = ['green', 'orange']\n",
    "plt.figure(figsize=(8, 6))\n",
    "sns.barplot(data=housing_3bed,x='renovation',y='price', palette=colors)\n",
    "\n",
    "def currency_formatter(x, pos):\n",
    "    return \"${:,.0f}\".format(x)\n",
    "\n",
    "formatter = FuncFormatter(currency_formatter)\n",
    "plt.gca().yaxis.set_major_formatter(formatter)\n",
    "\n",
    "plt.ylabel('Average price', fontweight='bold')\n",
    "plt.xlabel('House renovation',fontweight='bold')\n",
    "plt.title('Average price renovated vs non-renovated', fontweight='bold')\n"
   ]
  },
  {
   "cell_type": "code",
   "execution_count": null,
   "id": "d936ab14-c301-498c-8b6b-4410cc01d35e",
   "metadata": {},
   "outputs": [],
   "source": [
    "## From the table above, we see houses renovated are on average are likely to sell at a higher mean price vs non renovated houses.\n",
    " \n",
    "\n",
    "\n",
    "#Follow Up:\n",
    "    ## Could the difference be accounted for by other factors?\n",
    "\n",
    "# To test if there would be differences in our result if other factors are controlled for, we would account for Waterfront and grade. These 2 factors are expected to\n",
    "# have an influence on prices.\n"
   ]
  },
  {
   "cell_type": "code",
   "execution_count": null,
   "id": "911a103e-8da9-476d-aa60-6ccda02eb074",
   "metadata": {},
   "outputs": [],
   "source": [
    "## Again we start with 3 bedroom apartments which is the apartment of interest\n",
    "housing_3.head()"
   ]
  },
  {
   "cell_type": "code",
   "execution_count": null,
   "id": "00dfc3b7-3222-41e1-a54c-048a408f3836",
   "metadata": {},
   "outputs": [],
   "source": [
    "housing_3.isna().sum()"
   ]
  },
  {
   "cell_type": "code",
   "execution_count": null,
   "id": "0577ed6a-54f0-47c4-8792-049c4bcf9dd8",
   "metadata": {},
   "outputs": [],
   "source": [
    "housing_2 = housing_3"
   ]
  },
  {
   "cell_type": "code",
   "execution_count": null,
   "id": "1ecd0350-71e4-4f45-9f52-2247c6398695",
   "metadata": {},
   "outputs": [],
   "source": [
    "housing_grade = housing_2\n",
    "housing_grade"
   ]
  },
  {
   "cell_type": "code",
   "execution_count": null,
   "id": "25c622ff-d7c4-48be-80ce-66b10657e491",
   "metadata": {},
   "outputs": [],
   "source": [
    "data_types_dict = {'grade': 'int'}"
   ]
  },
  {
   "cell_type": "code",
   "execution_count": null,
   "id": "a51d746c-d869-4b43-bfea-926c3cebf24b",
   "metadata": {},
   "outputs": [],
   "source": [
    " housing_grade.astype(data_types_dict)\n",
    "housing_grade"
   ]
  },
  {
   "cell_type": "code",
   "execution_count": null,
   "id": "b377959a-b9e9-4a8f-b55e-ba0d5ba537ef",
   "metadata": {},
   "outputs": [],
   "source": [
    "housing_grade.dtypes"
   ]
  },
  {
   "cell_type": "code",
   "execution_count": null,
   "id": "ea9d4d73-3413-4a0c-88c6-36a520a33ddd",
   "metadata": {},
   "outputs": [],
   "source": [
    "## For this part of our analysis we would repeat same step similar to year renovated. Generate Categorical variables\n",
    "# Grade 0- 3: 0\n",
    "# Grade >3 <= 6 :1\n",
    "# Grade >6 <=9 :2\n",
    "# Others == 3\n",
    "\n",
    "housing_grade['grade'] = np.where(housing_grade['grade'] <= 3, 0,\n",
    "                                np.where(housing_grade['grade'] <= 6, 1,\n",
    "                                         np.where(housing_grade['grade'] <= 9, 2, 3)))\n",
    "housing_grade['grade'].unique()"
   ]
  },
  {
   "cell_type": "code",
   "execution_count": null,
   "id": "f2a5c2b1-ba74-4bf2-960a-14bf444beff1",
   "metadata": {},
   "outputs": [],
   "source": [
    "renovation2 = housing_grade['year_renovated'].unique()\n",
    "Interest = housing_grade.groupby(['year_renovated','grade'])['price'].mean().reset_index()\n",
    "data4_types_dict = {'price': 'int'}\n",
    "Interest = Interest.astype(data4_types_dict)\n",
    "\n",
    "import seaborn as sns\n",
    "import matplotlib.pyplot as plt\n",
    "from matplotlib.ticker import FuncFormatter\n",
    "\n",
    "plt.figure(figsize=(9, 6))\n",
    "\n",
    "\n",
    "def currency_formatter(x, pos):\n",
    "    return \"${:,.0f}\".format(x)\n",
    "\n",
    "formatter = FuncFormatter(currency_formatter)\n",
    "plt.gca().yaxis.set_major_formatter(formatter)\n",
    "sns.barplot(data=Interest, x='grade',y='price', hue= 'year_renovated')\n",
    "\n",
    "plt.xlabel('House renovation',fontweight = 'bold')\n",
    "plt.title('Average price renovated vs non-renovated by grade',fontweight = 'bold')\n",
    "sns.barplot(data=Interest, x='grade',y='price', hue= 'year_renovated', palette='Set2')\n"
   ]
  },
  {
   "cell_type": "code",
   "execution_count": null,
   "id": "bc44ef6e-c281-4342-b32e-ab27ee99e458",
   "metadata": {},
   "outputs": [],
   "source": [
    "\n",
    "## Even after grouping into grades, the result still holds true\n",
    "\n",
    "## renovated houses on average sell higher than non-renovated houses."
   ]
  },
  {
   "cell_type": "code",
   "execution_count": null,
   "id": "94bd3076-0cda-45bb-a0e7-63a0e2ef566b",
   "metadata": {},
   "outputs": [],
   "source": [
    "### Checking for waterfront differential"
   ]
  },
  {
   "cell_type": "code",
   "execution_count": null,
   "id": "8edc0824-80c8-43b2-bce7-2d52273b9cfc",
   "metadata": {},
   "outputs": [],
   "source": [
    "house_water = housing_3"
   ]
  },
  {
   "cell_type": "code",
   "execution_count": null,
   "id": "31dd4170-b0ea-48d4-a5d7-894b969a8200",
   "metadata": {},
   "outputs": [],
   "source": [
    "house_water.isna().sum()"
   ]
  },
  {
   "cell_type": "code",
   "execution_count": null,
   "id": "1b3d1def-8bce-43ba-b626-d254d98eeebd",
   "metadata": {},
   "outputs": [],
   "source": [
    "house_water.dropna(subset='waterfront', inplace=True)"
   ]
  },
  {
   "cell_type": "code",
   "execution_count": null,
   "id": "72c3de15-d3c6-4a61-9e88-398721bf53d8",
   "metadata": {},
   "outputs": [],
   "source": [
    "house_water['waterfront'] = house_water.waterfront.astype('int')\n",
    "house_water.head()"
   ]
  },
  {
   "cell_type": "code",
   "execution_count": null,
   "id": "90ca5637-52ae-4423-a560-bcc8a0759244",
   "metadata": {},
   "outputs": [],
   "source": [
    "Interest3 = house_water.groupby(['year_renovated','waterfront'])['price'].mean().reset_index()\n",
    "data5_types_dict = {'price': 'int'}\n",
    "Interest3 = Interest3.astype(data5_types_dict)\n",
    "\n",
    "import seaborn as sns\n",
    "import matplotlib.pyplot as plt\n",
    "from matplotlib.ticker import FuncFormatter\n",
    "\n",
    "plt.figure(figsize=(9, 6))\n",
    "\n",
    "\n",
    "def currency_formatter(x, pos):\n",
    "    return \"${:,.0f}\".format(x)\n",
    "\n",
    "formatter = FuncFormatter(currency_formatter)\n",
    "plt.gca().yaxis.set_major_formatter(formatter)\n",
    "\n",
    "\n",
    "plt.xlabel('House renovation',fontweight='bold')\n",
    "plt.title('Average price renovated vs non-renovated by waterfront', fontweight='bold')\n",
    "sns.barplot(data=Interest3, x='waterfront',y='price', hue= 'year_renovated', palette='Set1')\n",
    "plt.savefig('seaborn_plot.png')"
   ]
  },
  {
   "cell_type": "code",
   "execution_count": null,
   "id": "469f21ec-a06f-4041-99cf-80d456f4072a",
   "metadata": {},
   "outputs": [],
   "source": [
    "## Result:\n",
    "## Even when you compare houses with a view, renovated houses on average still sell higher than non-renovated houses."
   ]
  },
  {
   "cell_type": "code",
   "execution_count": null,
   "id": "dc39efd4-480f-408e-a078-4ca7b096e018",
   "metadata": {},
   "outputs": [],
   "source": [
    "## Task 2 when is the best time to sell ?"
   ]
  },
  {
   "cell_type": "code",
   "execution_count": null,
   "id": "bb28c677-d7ec-4b3d-91ed-a04ed4d6905b",
   "metadata": {},
   "outputs": [],
   "source": [
    "Un = housing_3.groupby(['year_renovated','sales_month'])['price'].mean().reset_index()\n",
    "plt.figure(figsize=(11,6))\n",
    "\n",
    "sns.lineplot(data=Un, x= 'sales_month',y='price', hue='year_renovated')\n",
    "plt.ylabel('Price in $', fontweight= 'bold')\n",
    "plt.title('Best Month To Sell Renovated vs Non-renovated',fontweight= 'bold')\n",
    "\n",
    "\n",
    "## Result\n",
    "## If my client decides to renovate before selling, the best time to sell the house would be in December.\n",
    "\n",
    "## Without renovation, April seems to be the logical time"
   ]
  },
  {
   "cell_type": "code",
   "execution_count": null,
   "id": "36b86ed7-bd06-4daf-a5b8-28a9adc2047b",
   "metadata": {},
   "outputs": [],
   "source": []
  },
  {
   "cell_type": "code",
   "execution_count": null,
   "id": "46c781cc-b05d-461d-9667-f79e909b7443",
   "metadata": {},
   "outputs": [],
   "source": [
    "###\n",
    "#                      Robustness check \n",
    "#Question 2: Does this result hold true for 2, 4, 5 bedrooms?"
   ]
  },
  {
   "cell_type": "code",
   "execution_count": null,
   "id": "04448cd6-9e90-40eb-8ea4-472cb160cfce",
   "metadata": {},
   "outputs": [],
   "source": [
    "housing_others = housing_data[housing_data['bedrooms'].isin([2,4,5])]\n",
    "housing_others.head()"
   ]
  },
  {
   "cell_type": "code",
   "execution_count": null,
   "id": "b641c949-eef6-4694-a31c-d399e2ef5293",
   "metadata": {},
   "outputs": [],
   "source": [
    "housing_others['date'] = pd.to_datetime(housing_others['date'], format='%Y-%m-%d')\n",
    "housing_others.dtypes"
   ]
  },
  {
   "cell_type": "code",
   "execution_count": null,
   "id": "f6a74eee-c00c-4d83-b598-2a5ed79369f3",
   "metadata": {},
   "outputs": [],
   "source": [
    "housing_others['sales_month'] = housing_others['date'].dt.strftime('%B')\n",
    "housing_others.head()"
   ]
  },
  {
   "cell_type": "code",
   "execution_count": null,
   "id": "397b6718-9217-4793-8994-82f2e149e363",
   "metadata": {},
   "outputs": [],
   "source": [
    "data_types_dict = {'bedrooms':'int', 'bathrooms':'int', 'floors': 'int',\n",
    "                 'sqft_above': 'int', 'sqft_living': 'int',\n",
    "                   'sqft_lot': 'int', 'sqft_lot15':'int','price': 'int'\n",
    "                  \n",
    "                  }"
   ]
  },
  {
   "cell_type": "code",
   "execution_count": null,
   "id": "ab6b7514-3c11-49c2-ace5-5c4d66efd411",
   "metadata": {},
   "outputs": [],
   "source": [
    "housing_others= housing_others.astype(data_types_dict)\n",
    "housing_others.head()"
   ]
  },
  {
   "cell_type": "code",
   "execution_count": null,
   "id": "a7cba818-de56-4f0e-85ea-a6a71be28084",
   "metadata": {},
   "outputs": [],
   "source": [
    "housing_others.eval('year_renovated = yr_renovated', inplace=True)"
   ]
  },
  {
   "cell_type": "code",
   "execution_count": null,
   "id": "2145042e-9f05-41a0-bbf8-63f2cb43ea3f",
   "metadata": {},
   "outputs": [],
   "source": [
    "housing_others.dropna(subset='yr_renovated', inplace=True)\n",
    "housing_others.isna().sum()"
   ]
  },
  {
   "cell_type": "code",
   "execution_count": null,
   "id": "5be8cbe5-f7a8-4194-904c-2bb1b332680a",
   "metadata": {},
   "outputs": [],
   "source": [
    "housing_others['year_renovated'] = np.where(housing_others['year_renovated'] > 0, 1, 0)"
   ]
  },
  {
   "cell_type": "code",
   "execution_count": null,
   "id": "c1c629db-923f-449d-afb1-c382d3a30dbd",
   "metadata": {},
   "outputs": [],
   "source": [
    "price1= housing_others.groupby('year_renovated')['price'].mean()\n",
    "price1= price1.astype(int)\n",
    "\n",
    "renovation1 = housing_others['year_renovated'].unique()\n",
    "\n",
    "data11 = {'price1': price1, 'renovation1': renovation1}\n",
    "\n",
    "House_other = pd.DataFrame(data11)\n",
    "\n",
    "import seaborn as sns\n",
    "import matplotlib.pyplot as plt\n",
    "from matplotlib.ticker import FuncFormatter\n",
    "\n",
    "plt.figure(figsize=(6, 6))\n",
    "sns.barplot(data=House_other,x='renovation1',y='price1')\n",
    "\n",
    "def currency_formatter(x, pos):\n",
    "    return \"${:,.0f}\".format(x)\n",
    "\n",
    "formatter = FuncFormatter(currency_formatter)\n",
    "plt.gca().yaxis.set_major_formatter(formatter)\n",
    "\n",
    "plt.xlabel('House renovation',fontweight ='bold')\n",
    "plt.title('Average price renovated vs non-renovated',fontweight ='bold')\n"
   ]
  },
  {
   "cell_type": "code",
   "execution_count": null,
   "id": "def28d42-5b96-4ee6-b4d7-7b20fd9ab9b5",
   "metadata": {},
   "outputs": [],
   "source": [
    "## Ans: Result derived from our earlier analysis appear true for when you check apartments with 2,4,5 bedrooms."
   ]
  },
  {
   "cell_type": "code",
   "execution_count": null,
   "id": "efff22bb-600a-4f62-a267-4bd5c2dbc217",
   "metadata": {},
   "outputs": [],
   "source": [
    "## Geographical checks"
   ]
  },
  {
   "cell_type": "code",
   "execution_count": null,
   "id": "481a94fb-d485-403e-a79a-431719ba0e62",
   "metadata": {},
   "outputs": [],
   "source": [
    "hhh3 = housing_3[housing_3['bathrooms'].isin([3])]"
   ]
  },
  {
   "cell_type": "code",
   "execution_count": null,
   "id": "78d3af13-4c43-4b9e-b380-48d245b85872",
   "metadata": {},
   "outputs": [],
   "source": [
    "import plotly.express as px\n",
    "fig = px.scatter_mapbox(hhh3, lat='lat', lon='long',color='year_renovated', size='price',\n",
    "                 zoom=3, mapbox_style='carto-positron')\n",
    "fig.update_layout(width=1000, height=800)\n",
    "fig.show()\n",
    "fig.write_html('interactive_map.html')"
   ]
  },
  {
   "cell_type": "code",
   "execution_count": null,
   "id": "f8916170-cfbb-4e18-8d31-aad2ca26cb8b",
   "metadata": {},
   "outputs": [],
   "source": [
    "## Conclusion \n",
    "\n",
    "# 1. It would appear renovating apartments increases the selling price on average even. ( This finding holds for other houses not in \n",
    "# clients portfolio( 2,4,5)\n",
    "# 2. Although an increase is noticed even in houses in grade 1, renovating or not renovating doesn't appear to make a difference \n",
    "\n",
    "# In summary, without having information about the cost of renovation, it would appear that renovating the apartments would be in my clients interest especially \n",
    "# if said apartment is within grade 2 and 3. \n",
    "\n",
    "# If my client proceeds with renovating, best time to initiate sale would be in december\n",
    "\n",
    "# It must be emphasied that the cost of renovation must be factored in before any decision is made. Overall, my client can command a higher selling price if \n",
    "# he choses to renovate. But it must be highlighted that in some cases(Grade 1) the difference noticed could potentially be easily offset by renovation expenses,\n",
    "# it would not make financial sense to renovate.\n",
    "# The finding also holds when you consider Geographical differences.\n",
    "\n",
    "## Findings highlighted above shows an association, not a causality."
   ]
  }
 ],
 "metadata": {
  "kernelspec": {
   "display_name": "Python 3 (ipykernel)",
   "language": "python",
   "name": "python3"
  },
  "language_info": {
   "codemirror_mode": {
    "name": "ipython",
    "version": 3
   },
   "file_extension": ".py",
   "mimetype": "text/x-python",
   "name": "python",
   "nbconvert_exporter": "python",
   "pygments_lexer": "ipython3",
   "version": "3.11.3"
  }
 },
 "nbformat": 4,
 "nbformat_minor": 5
}
